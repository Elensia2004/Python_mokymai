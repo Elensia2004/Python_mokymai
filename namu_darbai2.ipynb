{
 "cells": [
  {
   "cell_type": "code",
   "execution_count": 28,
   "metadata": {},
   "outputs": [
    {
     "name": "stdout",
     "output_type": "stream",
     "text": [
      "2560.0\n",
      "Sekundziu:153600.0\n",
      "Dienu:106.66666666666667\n",
      "Menesiu:3.555555555555556\n",
      "Metu:0.29629629629629634\n"
     ]
    }
   ],
   "source": [
    "#Pirmoji uzduotis\n",
    "atstumas_menulis = 384000 #km\n",
    "automobilio_greitis = 150 #km/h\n",
    "\n",
    "val_iki_menulio = atstumas_menulis / automobilio_greitis\n",
    "print(val_iki_menulio)\n",
    "print(f'Sekundziu:{val_iki_menulio*60}')\n",
    "print(f'Dienu:{val_iki_menulio/24}')\n",
    "print(f'Menesiu:{val_iki_menulio/24/30}')\n",
    "print(f'Metu:{val_iki_menulio/24/30/12}')\n"
   ]
  },
  {
   "cell_type": "code",
   "execution_count": 29,
   "metadata": {},
   "outputs": [
    {
     "name": "stdout",
     "output_type": "stream",
     "text": [
      "Nuo mano gimimo dienos praejo 16477 dienu\n"
     ]
    }
   ],
   "source": [
    "# Antroji uzduotis\n",
    "gimino_metai = 1978\n",
    "gimino_menuo = 10\n",
    "gimino_diena = 25\n",
    "sios_dienosMetai = 2022\n",
    "sios_dienosMenuo = 2\n",
    "sios_dienosDiena = 12\n",
    "metu = sios_dienosMetai - gimino_metai\n",
    "menesiu = (12 - sios_dienosMenuo) + gimino_menuo\n",
    "dienu = sios_dienosDiena + gimino_diena\n",
    "viso = dienu + menesiu*30 + metu*12*30\n",
    "print(f'Nuo mano gimimo dienos praejo {viso} dienu')\n",
    "\n"
   ]
  },
  {
   "cell_type": "code",
   "execution_count": 39,
   "metadata": {},
   "outputs": [
    {
     "name": "stdout",
     "output_type": "stream",
     "text": [
      "Tuple sudetis\n",
      "[2, 5, 8, 3, 9, 10, 47, 94, 3, 87, 34, 4, -4]\n",
      "Paskutinio nario isemimas: -4\n",
      "Likutinis sarasas: [2, 5, 8, 3, 9, 10, 47, 94, 3, 87, 34, 4]\n",
      "Isrikuotas sarasas: [2, 3, 3, 4, 5, 8, 9, 10, 34, 47, 87, 94]\n",
      "Kiek yra 3 sarase: 2\n",
      "Didziausia reiksme sarase yra: 94\n",
      "<class 'tuple'>\n"
     ]
    }
   ],
   "source": [
    "# Trecioji uzduotis\n",
    "sarasas = (2,5,8,3,9,10, 47, 94, 3,87)\n",
    "sarasas_1 = (34, 4, -4)\n",
    "sarasu_junginis = list(sarasas) + list(sarasas_1)\n",
    "print('Tuple sudetis')\n",
    "print(sarasu_junginis)\n",
    "print('Paskutinio nario isemimas:', sarasu_junginis.pop())\n",
    "print('Likutinis sarasas:', sarasu_junginis)\n",
    "sarasu_junginis.sort()\n",
    "print('Isrikuotas sarasas:', sarasu_junginis)\n",
    "print('Kiek yra 3 sarase:', sarasu_junginis.count(3))\n",
    "print('Didziausia reiksme sarase yra:', max(sarasu_junginis))\n",
    "print(type(tuple(sarasu_junginis)))"
   ]
  }
 ],
 "metadata": {
  "interpreter": {
   "hash": "31f2aee4e71d21fbe5cf8b01ff0e069b9275f58929596ceb00d14d90e3e16cd6"
  },
  "kernelspec": {
   "display_name": "Python 3.8.9 64-bit",
   "language": "python",
   "name": "python3"
  },
  "language_info": {
   "codemirror_mode": {
    "name": "ipython",
    "version": 3
   },
   "file_extension": ".py",
   "mimetype": "text/x-python",
   "name": "python",
   "nbconvert_exporter": "python",
   "pygments_lexer": "ipython3",
   "version": "3.8.9"
  },
  "orig_nbformat": 4
 },
 "nbformat": 4,
 "nbformat_minor": 2
}
