{
 "cells": [
  {
   "cell_type": "code",
   "execution_count": null,
   "metadata": {},
   "outputs": [],
   "source": [
    "# Pirmoji uzduotis\n",
    "\n",
    "for number in range(1,101):\n",
    "    if number % 2 ==0:\n",
    "        print(\"Fizz\")\n",
    "    elif number % 3 ==0:\n",
    "        print(\"Buzz\")\n",
    "    elif number % 2 == 0 and number % 3 ==0:\n",
    "        print(\"FizzBuzz\")\n",
    "        \n"
   ]
  },
  {
   "cell_type": "code",
   "execution_count": null,
   "metadata": {},
   "outputs": [],
   "source": [
    "# Antroji uzduotis\n",
    "#Leiskite vartotojui pasirinkti skaičių, jeigu įvestas skaičius yra daugiau arba lygus 10, \n",
    "# atspausdinkite visus skaičius kurie dalinasi iš 5 su liekana. \n",
    "# Kitu atveju nieko nedaryti ir pranešti vartotojui apie tai.\n",
    "\n",
    "vartotojo_pasirinkimas = int(input('Iveskite jusu pasirinkta skaiciu:'))\n",
    "\n",
    "for vartotojo_pasirinkimas in range(1,11):\n",
    "    if vartotojo_pasirinkimas % 5 != 0:\n",
    "        print(vartotojo_pasirinkimas)\n",
    "    else:\n",
    "        print('Nieko nedarau:)')\n"
   ]
  },
  {
   "cell_type": "code",
   "execution_count": null,
   "metadata": {},
   "outputs": [],
   "source": [
    "#sudarykite visas įmanomas kombinacijas iš pateiktų 3 list'ų. \n",
    "# Kiek yra iš viso kombinacijų? Išrikiuokite kombinacijų sąrašą \n",
    "# nuo didžiausios iki mažiausios reikšmės (Gali tekti paieškoti informacijos kaip tai padaryti).\n",
    "\n",
    "a = ['1','2','3','4','5']\n",
    "b = ['labas', 'vakaras', 'kokia grazi diena', 'siandien uz lango', '10 laipsniu silumos']\n",
    "c = ['100', '200', 40, 10]\n",
    "\n",
    "kombinaciju = list()\n",
    "\n",
    "for pirmoji in a:\n",
    "    for antroji in b:\n",
    "        for trecioji in c:\n",
    "            kombinaciju.append(pirmoji + antroji + str(trecioji))\n",
    "\n",
    "print(len(kombinaciju))\n",
    "print(sorted(kombinaciju, key = lambda x: x[0] if isinstance(x[0], int) else 0))\n"
   ]
  },
  {
   "cell_type": "code",
   "execution_count": null,
   "metadata": {},
   "outputs": [],
   "source": [
    "#Paskaičiuoti pelną pardavus visas prekes. Informacija apie kainą ir kiekius yra pateikiama \n",
    "#kaip dictionary, atsakymą suapvalinti iki 2 skaičių po kablelio.\n",
    "x = { \"cost_price\": 32.67,\n",
    "         \"sell_price\": 45.00,\n",
    "         \"inventory\": 1212 }\n",
    "\n",
    "pelnas = x.get(\"sell_price\") - x.get(\"cost_price\")\n",
    "print(\"{:.2f}\".format(pelnas))\n"
   ]
  }
 ],
 "metadata": {
  "interpreter": {
   "hash": "31f2aee4e71d21fbe5cf8b01ff0e069b9275f58929596ceb00d14d90e3e16cd6"
  },
  "kernelspec": {
   "display_name": "Python 3.8.9 64-bit",
   "language": "python",
   "name": "python3"
  },
  "language_info": {
   "codemirror_mode": {
    "name": "ipython",
    "version": 3
   },
   "file_extension": ".py",
   "mimetype": "text/x-python",
   "name": "python",
   "nbconvert_exporter": "python",
   "pygments_lexer": "ipython3",
   "version": "3.8.9"
  },
  "orig_nbformat": 4
 },
 "nbformat": 4,
 "nbformat_minor": 2
}
