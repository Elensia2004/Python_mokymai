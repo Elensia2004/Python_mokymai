{
 "cells": [
  {
   "cell_type": "code",
   "execution_count": null,
   "metadata": {},
   "outputs": [],
   "source": [
    "# Pirmoji uzduotis\n",
    "\n",
    "for number in range(1,101):\n",
    "    if number % 2 ==0:\n",
    "        print(\"Fizz\")\n",
    "    elif number % 3 ==0:\n",
    "        print(\"Buzz\")\n",
    "    elif number % 2 == 0 and number % 3 ==0:\n",
    "        print(\"FizzBuzz\")\n",
    "        \n"
   ]
  },
  {
   "cell_type": "code",
   "execution_count": null,
   "metadata": {},
   "outputs": [],
   "source": [
    "# Antroji uzduotis\n",
    "#Leiskite vartotojui pasirinkti skaičių, jeigu įvestas skaičius yra daugiau arba lygus 10, \n",
    "# atspausdinkite visus skaičius kurie dalinasi iš 5 su liekana. \n",
    "# Kitu atveju nieko nedaryti ir pranešti vartotojui apie tai.\n",
    "\n",
    "vartotojo_pasirinkimas = int(input('Iveskite jusu pasirinkta skaiciu:'))\n",
    "\n",
    "for vartotojo_pasirinkimas in range(1,11):\n",
    "    if vartotojo_pasirinkimas % 5 != 0:\n",
    "        print(vartotojo_pasirinkimas)\n",
    "    else:\n",
    "        print('Nieko nedarau:)')\n"
   ]
  },
  {
   "cell_type": "code",
   "execution_count": 62,
   "metadata": {},
   "outputs": [
    {
     "name": "stdout",
     "output_type": "stream",
     "text": [
      "100\n",
      "['1labas100', '1labas200', '1labas40', '1labas10', '1vakaras100', '1vakaras200', '1vakaras40', '1vakaras10', '1kokia grazi diena100', '1kokia grazi diena200', '1kokia grazi diena40', '1kokia grazi diena10', '1siandien uz lango100', '1siandien uz lango200', '1siandien uz lango40', '1siandien uz lango10', '110 laipsniu silumos100', '110 laipsniu silumos200', '110 laipsniu silumos40', '110 laipsniu silumos10', '2labas100', '2labas200', '2labas40', '2labas10', '2vakaras100', '2vakaras200', '2vakaras40', '2vakaras10', '2kokia grazi diena100', '2kokia grazi diena200', '2kokia grazi diena40', '2kokia grazi diena10', '2siandien uz lango100', '2siandien uz lango200', '2siandien uz lango40', '2siandien uz lango10', '210 laipsniu silumos100', '210 laipsniu silumos200', '210 laipsniu silumos40', '210 laipsniu silumos10', '3labas100', '3labas200', '3labas40', '3labas10', '3vakaras100', '3vakaras200', '3vakaras40', '3vakaras10', '3kokia grazi diena100', '3kokia grazi diena200', '3kokia grazi diena40', '3kokia grazi diena10', '3siandien uz lango100', '3siandien uz lango200', '3siandien uz lango40', '3siandien uz lango10', '310 laipsniu silumos100', '310 laipsniu silumos200', '310 laipsniu silumos40', '310 laipsniu silumos10', '4labas100', '4labas200', '4labas40', '4labas10', '4vakaras100', '4vakaras200', '4vakaras40', '4vakaras10', '4kokia grazi diena100', '4kokia grazi diena200', '4kokia grazi diena40', '4kokia grazi diena10', '4siandien uz lango100', '4siandien uz lango200', '4siandien uz lango40', '4siandien uz lango10', '410 laipsniu silumos100', '410 laipsniu silumos200', '410 laipsniu silumos40', '410 laipsniu silumos10', '5labas100', '5labas200', '5labas40', '5labas10', '5vakaras100', '5vakaras200', '5vakaras40', '5vakaras10', '5kokia grazi diena100', '5kokia grazi diena200', '5kokia grazi diena40', '5kokia grazi diena10', '5siandien uz lango100', '5siandien uz lango200', '5siandien uz lango40', '5siandien uz lango10', '510 laipsniu silumos100', '510 laipsniu silumos200', '510 laipsniu silumos40', '510 laipsniu silumos10']\n",
      "['1labas100', '1labas200', '1labas40', '1labas10', '1vakaras100', '1vakaras200', '1vakaras40', '1vakaras10', '1kokia grazi diena100', '1kokia grazi diena200', '1kokia grazi diena40', '1kokia grazi diena10', '1siandien uz lango100', '1siandien uz lango200', '1siandien uz lango40', '1siandien uz lango10', '110 laipsniu silumos100', '110 laipsniu silumos200', '110 laipsniu silumos40', '110 laipsniu silumos10', '2labas100', '2labas200', '2labas40', '2labas10', '2vakaras100', '2vakaras200', '2vakaras40', '2vakaras10', '2kokia grazi diena100', '2kokia grazi diena200', '2kokia grazi diena40', '2kokia grazi diena10', '2siandien uz lango100', '2siandien uz lango200', '2siandien uz lango40', '2siandien uz lango10', '210 laipsniu silumos100', '210 laipsniu silumos200', '210 laipsniu silumos40', '210 laipsniu silumos10', '3labas100', '3labas200', '3labas40', '3labas10', '3vakaras100', '3vakaras200', '3vakaras40', '3vakaras10', '3kokia grazi diena100', '3kokia grazi diena200', '3kokia grazi diena40', '3kokia grazi diena10', '3siandien uz lango100', '3siandien uz lango200', '3siandien uz lango40', '3siandien uz lango10', '310 laipsniu silumos100', '310 laipsniu silumos200', '310 laipsniu silumos40', '310 laipsniu silumos10', '4labas100', '4labas200', '4labas40', '4labas10', '4vakaras100', '4vakaras200', '4vakaras40', '4vakaras10', '4kokia grazi diena100', '4kokia grazi diena200', '4kokia grazi diena40', '4kokia grazi diena10', '4siandien uz lango100', '4siandien uz lango200', '4siandien uz lango40', '4siandien uz lango10', '410 laipsniu silumos100', '410 laipsniu silumos200', '410 laipsniu silumos40', '410 laipsniu silumos10', '5labas100', '5labas200', '5labas40', '5labas10', '5vakaras100', '5vakaras200', '5vakaras40', '5vakaras10', '5kokia grazi diena100', '5kokia grazi diena200', '5kokia grazi diena40', '5kokia grazi diena10', '5siandien uz lango100', '5siandien uz lango200', '5siandien uz lango40', '5siandien uz lango10', '510 laipsniu silumos100', '510 laipsniu silumos200', '510 laipsniu silumos40', '510 laipsniu silumos10']\n"
     ]
    }
   ],
   "source": [
    "#sudarykite visas įmanomas kombinacijas iš pateiktų 3 list'ų. \n",
    "# Kiek yra iš viso kombinacijų? Išrikiuokite kombinacijų sąrašą \n",
    "# nuo didžiausios iki mažiausios reikšmės (Gali tekti paieškoti informacijos kaip tai padaryti).\n",
    "\n",
    "a = ['1','2','3','4','5']\n",
    "b = ['labas', 'vakaras', 'kokia grazi diena', 'siandien uz lango', '10 laipsniu silumos']\n",
    "c = ['100', '200', 40, 10]\n",
    "\n",
    "kombinaciju = list()\n",
    "\n",
    "for pirmoji in a:\n",
    "    for antroji in b:\n",
    "        for trecioji in c:\n",
    "            kombinaciju.append(pirmoji + antroji + str(trecioji))\n",
    "\n",
    "print(len(kombinaciju))\n",
    "print(sorted(kombinaciju, key = lambda x: x[0] if isinstance(x[0], int) else 0))\n"
   ]
  },
  {
   "cell_type": "code",
   "execution_count": 100,
   "metadata": {},
   "outputs": [
    {
     "name": "stdout",
     "output_type": "stream",
     "text": [
      "12.33\n"
     ]
    }
   ],
   "source": [
    "#Paskaičiuoti pelną pardavus visas prekes. Informacija apie kainą ir kiekius yra pateikiama \n",
    "#kaip dictionary, atsakymą suapvalinti iki 2 skaičių po kablelio.\n",
    "x = { \"cost_price\": 32.67,\n",
    "         \"sell_price\": 45.00,\n",
    "         \"inventory\": 1212 }\n",
    "\n",
    "pelnas = x.get(\"sell_price\") - x.get(\"cost_price\")\n",
    "print(\"{:.2f}\".format(pelnas))\n"
   ]
  }
 ],
 "metadata": {
  "interpreter": {
   "hash": "31f2aee4e71d21fbe5cf8b01ff0e069b9275f58929596ceb00d14d90e3e16cd6"
  },
  "kernelspec": {
   "display_name": "Python 3.8.9 64-bit",
   "language": "python",
   "name": "python3"
  },
  "language_info": {
   "codemirror_mode": {
    "name": "ipython",
    "version": 3
   },
   "file_extension": ".py",
   "mimetype": "text/x-python",
   "name": "python",
   "nbconvert_exporter": "python",
   "pygments_lexer": "ipython3",
   "version": "3.8.9"
  },
  "orig_nbformat": 4
 },
 "nbformat": 4,
 "nbformat_minor": 2
}
