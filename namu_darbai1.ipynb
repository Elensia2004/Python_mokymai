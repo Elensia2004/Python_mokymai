{
 "cells": [
  {
   "cell_type": "code",
   "execution_count": 1,
   "metadata": {},
   "outputs": [
    {
     "name": "stdout",
     "output_type": "stream",
     "text": [
      "Elena Nilsen\n"
     ]
    }
   ],
   "source": [
    "#Pirmoji uzduotis\n",
    "\n",
    "print(\"Elena\", 'Nilsen')"
   ]
  },
  {
   "cell_type": "code",
   "execution_count": 8,
   "metadata": {},
   "outputs": [
    {
     "name": "stdout",
     "output_type": "stream",
     "text": [
      "PYTHON MAKES ME REALLY REALLY HAPPY!\n",
      "PyThOn makes me really really happy!\n"
     ]
    }
   ],
   "source": [
    "# Antroji uzduotis\n",
    "stingas = 'Python makes me really really happy!'\n",
    "print(stingas.upper())\n",
    "print(stingas.replace('Python', 'PyThOn'))"
   ]
  },
  {
   "cell_type": "code",
   "execution_count": 38,
   "metadata": {},
   "outputs": [
    {
     "name": "stdout",
     "output_type": "stream",
     "text": [
      "happy \n",
      "to \n",
      "3\n"
     ]
    }
   ],
   "source": [
    "#Trecioji uszuotis\n",
    "stingas2 =  'Hello World, I am happy to learn Python!'\n",
    "indeksas = stingas2.index('happy')\n",
    "ilgis = len('happy')\n",
    "print(stingas2[18:24])\n",
    "print(stingas2[24:27])\n",
    "print(len(stingas2[24:27]))"
   ]
  }
 ],
 "metadata": {
  "interpreter": {
   "hash": "31f2aee4e71d21fbe5cf8b01ff0e069b9275f58929596ceb00d14d90e3e16cd6"
  },
  "kernelspec": {
   "display_name": "Python 3.8.9 64-bit",
   "language": "python",
   "name": "python3"
  },
  "language_info": {
   "codemirror_mode": {
    "name": "ipython",
    "version": 3
   },
   "file_extension": ".py",
   "mimetype": "text/x-python",
   "name": "python",
   "nbconvert_exporter": "python",
   "pygments_lexer": "ipython3",
   "version": "3.8.9"
  },
  "orig_nbformat": 4
 },
 "nbformat": 4,
 "nbformat_minor": 2
}
