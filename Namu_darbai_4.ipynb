{
 "cells": [
  {
   "cell_type": "code",
   "execution_count": null,
   "metadata": {},
   "outputs": [],
   "source": [
    "# 1. Rasti pasikartojančius elementus tarp dviejų list.\n",
    "\n",
    "\n",
    "a = [1,2,3,4,5,6,7,8,9,15]\n",
    "b = [3,8,9,11,15]\n",
    "c = (set(a)).intersection(set(b))\n",
    "print(list(c))\n",
    "\n",
    "#Gauti rezultatą c = [3,8,9,15] nes šie skaičiai pasikartoja abiejuose list.\n"
   ]
  },
  {
   "cell_type": "code",
   "execution_count": 61,
   "metadata": {},
   "outputs": [
    {
     "name": "stdout",
     "output_type": "stream",
     "text": [
      "[800, 1, 2, 900, 5, 8, 10, 12, 14]\n"
     ]
    }
   ],
   "source": [
    "#2. Išfiltruoti unikalius teigiamus numerius iš sąrašo.\n",
    "\n",
    "x = [1, 5, 1, 2, 8, -9, 10, 1, -8, -900, 14, 5, -8, 2, 1, -20, 900, 800, -6, -8, 12, 1]\n",
    "new_x = [y for y in x if y>0]\n",
    "print(list(set(new_x)))\n",
    "\n"
   ]
  },
  {
   "cell_type": "code",
   "execution_count": null,
   "metadata": {},
   "outputs": [],
   "source": [
    "import string\n",
    "#3. Parašykite funkciją, kuri priims string tipo kintamąjį, gražinkite kiek tame \n",
    "# string'ę yra raidžių, skaičių, skyrybos (specialių) ženklų ir tarpų. \n",
    "# for loop kiekvienam simboliui string'e\n",
    "# ar simbolis yra skaičius/raidė/tarpas/nei tas nei tas +=1\n",
    "# gražinsime f stringą - “raidžiu yra: {raidziu_suma}\n",
    "\n",
    "sarasas = 'pirmas skaicius yra 1, o atras yra 2. Ar tai tiesa?  '\n",
    "\n",
    "\n",
    "def simboliu_ieskotojas(stringas):\n",
    "    raidziu_suma = 0\n",
    "    simboliu_suma = 0\n",
    "    skaiciu_suma = 0\n",
    "    for simbolis in stringas.replace(' ',''):\n",
    "        if simbolis in (string.ascii_uppercase + string.ascii_lowercase):\n",
    "            raidziu_suma +=1\n",
    "        elif simbolis in \"0123456789\":\n",
    "            skaiciu_suma +=1\n",
    "        else:\n",
    "            simboliu_suma += 1\n",
    "    return f'Raidziu yra: {raidziu_suma}, simboliu suma yra {simboliu_suma}  ir skaiciu suma yra {skaiciu_suma}.'\n",
    "\n",
    "simboliu_ieskotojas(sarasas)\n",
    "\n"
   ]
  },
  {
   "cell_type": "code",
   "execution_count": 62,
   "metadata": {},
   "outputs": [
    {
     "data": {
      "text/plain": [
       "9"
      ]
     },
     "execution_count": 62,
     "metadata": {},
     "output_type": "execute_result"
    }
   ],
   "source": [
    "#4. Parašyti funkciją, kuri priima vieną list tipo kintamąjį, \n",
    "# funkcija grąžina skirtumą tarp didžiausio skaičiaus ir mažiausio skaičiaus.\n",
    "def mano_funkcija(list_1):\n",
    "     return max(list_1) - min(list_1)\n",
    "\n",
    "mano_funkcija([1,5,6,10,4])\n"
   ]
  },
  {
   "cell_type": "code",
   "execution_count": null,
   "metadata": {},
   "outputs": [],
   "source": [
    "#5. Parašykite funkciją, kuri priims listą ir patikrins ar listo narys n+1 yra 1 didesnis nei n, jeigu visi listo nariai einantys vienas po kito yra didesni per 1, vadinasi anomalijos nėra, jei nors 1 narys neatitinka sekos, vadinasi yra anomalija.\n",
    "\n",
    "pvz: \n",
    "\n",
    "list_3 = [17,18,19,21]\n",
    "\n",
    "Tarp skaiciu 17 ir 18 anomalijos nera \n",
    "Tarp skaiciu 18 ir 19 anomalijos nera \n",
    "Anomalija yra! Skaiciai 19 ir 21 nera einantys vienas po kito! Trukstamas skaicius yra 20\n"
   ]
  },
  {
   "cell_type": "code",
   "execution_count": null,
   "metadata": {},
   "outputs": [],
   "source": [
    "#6. Parašykite funkciją, kuri priims list’ą, gaukite didžiausią šalia esančių skaičių sandaugą.\n",
    "\n",
    "\n",
    "my_list = [3, 6, -2, -5, 7, 3]\n",
    "\n",
    "rezultatas = 21, nes 7 ir 3 sandauga yra didžiausia"
   ]
  }
 ],
 "metadata": {
  "interpreter": {
   "hash": "31f2aee4e71d21fbe5cf8b01ff0e069b9275f58929596ceb00d14d90e3e16cd6"
  },
  "kernelspec": {
   "display_name": "Python 3.8.9 64-bit",
   "language": "python",
   "name": "python3"
  },
  "language_info": {
   "codemirror_mode": {
    "name": "ipython",
    "version": 3
   },
   "file_extension": ".py",
   "mimetype": "text/x-python",
   "name": "python",
   "nbconvert_exporter": "python",
   "pygments_lexer": "ipython3",
   "version": "3.8.9"
  },
  "orig_nbformat": 4
 },
 "nbformat": 4,
 "nbformat_minor": 2
}
