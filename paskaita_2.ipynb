{
 "cells": [
  {
   "cell_type": "code",
   "execution_count": 1,
   "metadata": {},
   "outputs": [
    {
     "data": {
      "text/plain": [
       "int"
      ]
     },
     "execution_count": 1,
     "metadata": {},
     "output_type": "execute_result"
    }
   ],
   "source": [
    "type(420)"
   ]
  },
  {
   "cell_type": "code",
   "execution_count": 2,
   "metadata": {},
   "outputs": [
    {
     "name": "stdout",
     "output_type": "stream",
     "text": [
      "10\n",
      "45.0\n"
     ]
    }
   ],
   "source": [
    "sandauga = 1\n",
    "sandauga *=10\n",
    "print(sandauga)\n",
    "sandauga *= 4.5\n",
    "print(sandauga)\n"
   ]
  },
  {
   "cell_type": "code",
   "execution_count": 4,
   "metadata": {},
   "outputs": [
    {
     "name": "stdout",
     "output_type": "stream",
     "text": [
      "30\n",
      "10\n"
     ]
    }
   ],
   "source": [
    "sveikas_skaicius = 20\n",
    "antras_skaicius = 10\n",
    "skaiciu_suma = sveikas_skaicius + antras_skaicius\n",
    "print(skaiciu_suma)\n",
    "skaiciu_skirtumas = sveikas_skaicius - antras_skaicius\n",
    "print(skaiciu_skirtumas)"
   ]
  },
  {
   "cell_type": "code",
   "execution_count": 6,
   "metadata": {},
   "outputs": [
    {
     "name": "stdout",
     "output_type": "stream",
     "text": [
      "27\n",
      "19\n",
      "92\n",
      "dalybos liekana 3\n",
      "sveikoji dalis 5\n",
      "5.75\n"
     ]
    }
   ],
   "source": [
    "n_1= 23\n",
    "n_2=4\n",
    "\n",
    "print(n_1+n_2)\n",
    "print(n_1-n_2)\n",
    "print(n_1*n_2)\n",
    "print('dalybos liekana', n_1%n_2)\n",
    "print('sveikoji dalis', n_1//n_2)\n",
    "print(n_1/n_2)"
   ]
  },
  {
   "cell_type": "code",
   "execution_count": 11,
   "metadata": {},
   "outputs": [
    {
     "name": "stdout",
     "output_type": "stream",
     "text": [
      "Atstumas iki Saules 3.90625 kartu didesnis\n"
     ]
    }
   ],
   "source": [
    "dist_moon = 384000\n",
    "dist_sun = 15000000\n",
    "print('Atstumas iki Saules', 1500000 / 384000, 'kartu didesnis')"
   ]
  },
  {
   "cell_type": "code",
   "execution_count": 12,
   "metadata": {},
   "outputs": [
    {
     "name": "stdout",
     "output_type": "stream",
     "text": [
      "valandu: 2560.0\n"
     ]
    }
   ],
   "source": [
    "car_speed = 150 # km/h\n",
    "print('valandu:', dist_moon/car_speed)"
   ]
  },
  {
   "cell_type": "code",
   "execution_count": 14,
   "metadata": {},
   "outputs": [
    {
     "name": "stdout",
     "output_type": "stream",
     "text": [
      "<class 'bool'>\n",
      "True\n"
     ]
    }
   ],
   "source": [
    "loginis_kintamasis = True\n",
    "print(type(loginis_kintamasis))\n",
    "print(loginis_kintamasis)"
   ]
  },
  {
   "cell_type": "code",
   "execution_count": 15,
   "metadata": {},
   "outputs": [
    {
     "name": "stdout",
     "output_type": "stream",
     "text": [
      "1\n",
      "0\n"
     ]
    }
   ],
   "source": [
    "print(int(loginis_kintamasis))\n",
    "print(int(False))"
   ]
  },
  {
   "cell_type": "code",
   "execution_count": 16,
   "metadata": {},
   "outputs": [
    {
     "name": "stdout",
     "output_type": "stream",
     "text": [
      "True\n",
      "False\n",
      "False\n",
      "True\n"
     ]
    }
   ],
   "source": [
    "print (10 > 5)\n",
    "print (10 < 5)\n",
    "print (10 < 10)\n",
    "print (10 <= 10)\n"
   ]
  },
  {
   "cell_type": "code",
   "execution_count": 22,
   "metadata": {},
   "outputs": [
    {
     "name": "stdout",
     "output_type": "stream",
     "text": [
      "True\n",
      "True\n",
      "True\n",
      "True\n",
      "True\n"
     ]
    }
   ],
   "source": [
    "print(True == 1)\n",
    "print('a' in ' namas')\n",
    "print(5 > 3)\n",
    "print(bool(100))\n",
    "print(10== 10)"
   ]
  },
  {
   "cell_type": "code",
   "execution_count": null,
   "metadata": {},
   "outputs": [],
   "source": []
  },
  {
   "cell_type": "code",
   "execution_count": 23,
   "metadata": {},
   "outputs": [
    {
     "name": "stdout",
     "output_type": "stream",
     "text": [
      "False\n",
      "False\n",
      "False\n",
      "False\n",
      "False\n"
     ]
    }
   ],
   "source": [
    "print(True == 0)\n",
    "print('f' in ' namas')\n",
    "print(not 5 > 3)\n",
    "print(bool(0))\n",
    "print(10== 10 and 10>150)\n"
   ]
  },
  {
   "cell_type": "code",
   "execution_count": 29,
   "metadata": {},
   "outputs": [
    {
     "name": "stdout",
     "output_type": "stream",
     "text": [
      "[1, 3, 'labas', 'geras', 'rytas']\n",
      "<class 'list'>\n",
      "5\n",
      "True\n"
     ]
    }
   ],
   "source": [
    "sarasas = [1,3,'labas', 'geras']\n",
    "sarasas.append('rytas')\n",
    "print(sarasas)\n",
    "print(type(sarasas))\n",
    "print(len(sarasas))\n",
    "print('geras' in sarasas)"
   ]
  },
  {
   "cell_type": "code",
   "execution_count": 37,
   "metadata": {},
   "outputs": [
    {
     "name": "stdout",
     "output_type": "stream",
     "text": [
      "[5, 'vakaras', 1, 3, 'labas', 'geras', 'rytas']\n",
      "vakaras\n",
      "None\n",
      "1\n",
      "[5, 'apelsinas']\n"
     ]
    }
   ],
   "source": [
    "sarasa_2 = [5,'vakaras']\n",
    "print(sarasa_2 +my_tuple = (1, 2, ['3', 4, 5], [6, [7, (8)]]) sarasas)\n",
    "print(sarasa_2.pop())\n",
    "print(sarasa_2.append('apelsinas'))\n",
    "print(sarasa_2.count('apelsinas'))\n",
    "print(sarasa_2)"
   ]
  },
  {
   "cell_type": "code",
   "execution_count": 43,
   "metadata": {},
   "outputs": [
    {
     "name": "stdout",
     "output_type": "stream",
     "text": [
      "8\n",
      "8\n"
     ]
    }
   ],
   "source": [
    "my_tuple = (1, 2, ['3', 4, 5], [6, [7, (8)]])\n",
    "print(my_tuple[3][1][1])\n",
    "print(my_tuple[-1][-1][-1])"
   ]
  },
  {
   "cell_type": "code",
   "execution_count": 44,
   "metadata": {},
   "outputs": [
    {
     "name": "stdout",
     "output_type": "stream",
     "text": [
      "(11, [222, 22], 44, 55)\n"
     ]
    }
   ],
   "source": [
    "tuple1 = (11, [222, 33], 44, 55)\n",
    "tuple1[1][-1]=22\n",
    "print(tuple1)"
   ]
  },
  {
   "cell_type": "code",
   "execution_count": null,
   "metadata": {},
   "outputs": [],
   "source": []
  }
 ],
 "metadata": {
  "interpreter": {
   "hash": "31f2aee4e71d21fbe5cf8b01ff0e069b9275f58929596ceb00d14d90e3e16cd6"
  },
  "kernelspec": {
   "display_name": "Python 3.8.9 64-bit",
   "language": "python",
   "name": "python3"
  },
  "language_info": {
   "codemirror_mode": {
    "name": "ipython",
    "version": 3
   },
   "file_extension": ".py",
   "mimetype": "text/x-python",
   "name": "python",
   "nbconvert_exporter": "python",
   "pygments_lexer": "ipython3",
   "version": "3.8.9"
  },
  "orig_nbformat": 4
 },
 "nbformat": 4,
 "nbformat_minor": 2
}
