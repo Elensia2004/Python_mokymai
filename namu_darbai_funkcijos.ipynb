{
 "cells": [
  {
   "cell_type": "code",
   "execution_count": 44,
   "metadata": {},
   "outputs": [
    {
     "name": "stdout",
     "output_type": "stream",
     "text": [
      "53\n",
      "pirmas skaicius yra 1, o atras yra 2. Ar tai tiesa?\n",
      "53\n",
      "pirmasskaiciusyra1,oatrasyra2.Artaitiesa?\n",
      "<class 'str'>\n"
     ]
    },
    {
     "data": {
      "text/plain": [
       "'Raidziu yra: 36, simboliu suma yra 3  ir skaiciu suma yra 2.'"
      ]
     },
     "execution_count": 44,
     "metadata": {},
     "output_type": "execute_result"
    }
   ],
   "source": [
    "import string\n",
    "\n",
    "#Pirmoji uzduotis\n",
    "sarasas = 'pirmas skaicius yra 1, o atras yra 2. Ar tai tiesa?  '\n",
    "\n",
    "\n",
    "def simboliu_ieskotojas(stringas):\n",
    "    raidziu_suma = 0\n",
    "    simboliu_suma = 0\n",
    "    skaiciu_suma = 0\n",
    "    for simbolis in stringas.replace(' ',''):\n",
    "        if simbolis in (string.ascii_uppercase + string.ascii_lowercase):\n",
    "            raidziu_suma +=1\n",
    "        elif simbolis in \"0123456789\":\n",
    "            skaiciu_suma +=1\n",
    "        else:\n",
    "            simboliu_suma += 1\n",
    "    return f'Raidziu yra: {raidziu_suma}, simboliu suma yra {simboliu_suma}  ir skaiciu suma yra {skaiciu_suma}.'\n",
    "\n",
    "simboliu_ieskotojas(sarasas)\n",
    "\n"
   ]
  },
  {
   "cell_type": "code",
   "execution_count": 48,
   "metadata": {},
   "outputs": [
    {
     "name": "stdout",
     "output_type": "stream",
     "text": [
      "[10, 15, 20, 25, 30, 35, 40, 45, 50, 55, 60, 65, 70, 75, 80, 85, 90, 95]\n"
     ]
    }
   ],
   "source": [
    "# Antroji uzduotis\n",
    "\n",
    "def skaiciuKurejas(x,y,z):\n",
    "    listas = list()\n",
    "    while x != y:\n",
    "        listas.append(x)\n",
    "        x = x +z\n",
    "    return listas\n",
    "\n",
    "print(skaiciuKurejas(10,100,5))"
   ]
  },
  {
   "cell_type": "code",
   "execution_count": 1,
   "metadata": {},
   "outputs": [
    {
     "data": {
      "text/plain": [
       "9"
      ]
     },
     "execution_count": 1,
     "metadata": {},
     "output_type": "execute_result"
    }
   ],
   "source": [
    "# Trecioji uzduotis\n",
    " \n",
    "def mano_funkcija(list_1):\n",
    "     return max(list_1) - min(list_1)\n",
    "\n",
    "mano_funkcija([1,5,6,10,4])"
   ]
  }
 ],
 "metadata": {
  "interpreter": {
   "hash": "31f2aee4e71d21fbe5cf8b01ff0e069b9275f58929596ceb00d14d90e3e16cd6"
  },
  "kernelspec": {
   "display_name": "Python 3.8.9 64-bit",
   "language": "python",
   "name": "python3"
  },
  "language_info": {
   "codemirror_mode": {
    "name": "ipython",
    "version": 3
   },
   "file_extension": ".py",
   "mimetype": "text/x-python",
   "name": "python",
   "nbconvert_exporter": "python",
   "pygments_lexer": "ipython3",
   "version": "3.8.9"
  },
  "orig_nbformat": 4
 },
 "nbformat": 4,
 "nbformat_minor": 2
}
